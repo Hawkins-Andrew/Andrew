{
 "cells": [
  {
   "cell_type": "markdown",
   "metadata": {},
   "source": [
    "$\\alpha = \\Delta L (L^{-1}) (\\Delta T^{-1})$\n"
   ]
  },
  {
   "cell_type": "code",
   "execution_count": 25,
   "metadata": {},
   "outputs": [],
   "source": [
    "import numpy as np\n",
    "\n",
    "def rule3(dA,dB):\n",
    "    dQ = np.sqrt(dA**2 + dB**2)\n",
    "    return dQ"
   ]
  },
  {
   "cell_type": "code",
   "execution_count": 26,
   "metadata": {},
   "outputs": [
    {
     "name": "stdout",
     "output_type": "stream",
     "text": [
      "0.31622776601683794\n"
     ]
    }
   ],
   "source": [
    "dT_i = 0.3 #C\n",
    "dT_f = 0.1 #C\n",
    "\n",
    "err_Delta_T = rule3(dT_i,dT_f)\n",
    "\n",
    "print (err_Delta_T)"
   ]
  },
  {
   "cell_type": "code",
   "execution_count": 27,
   "metadata": {},
   "outputs": [],
   "source": [
    "def rule_a (A,B,C):\n",
    "    a = (A*(B**(-1))*(C**(-1)))\n",
    "    return a\n",
    "    "
   ]
  },
  {
   "cell_type": "code",
   "execution_count": 28,
   "metadata": {
    "scrolled": true
   },
   "outputs": [
    {
     "name": "stdout",
     "output_type": "stream",
     "text": [
      "1.7297222796499207e-05\n"
     ]
    }
   ],
   "source": [
    "Delta_L = .001255 #m\n",
    "L = 1.05 #m\n",
    "Delta_T = 69.1 \n",
    "\n",
    "alpha = rule_a(Delta_L,L,Delta_T)\n",
    "\n",
    "print (alpha)"
   ]
  },
  {
   "cell_type": "code",
   "execution_count": 29,
   "metadata": {},
   "outputs": [],
   "source": [
    "def rule4 (Q,dA,A,dB,B,dC,C):\n",
    "    eQ = (Q*np.sqrt(((dA/A)**2)+((dB/B)**2)+((dC/C)**2)))\n",
    "    return eQ"
   ]
  },
  {
   "cell_type": "code",
   "execution_count": 30,
   "metadata": {},
   "outputs": [
    {
     "name": "stdout",
     "output_type": "stream",
     "text": [
      "1.6026814677349454e-07\n"
     ]
    }
   ],
   "source": [
    "\n",
    "Delta_dL = .00001 #m\n",
    "Delta_L=.00125 #m\n",
    "dL =.001 #m\n",
    "L =1.05 #m\n",
    "\n",
    "\n",
    "dAlpha = rule4 (alpha,Delta_dL,Delta_L,dL,L,err_Delta_T,Delta_T)\n",
    "\n",
    "print (dAlpha)\n",
    "\n"
   ]
  },
  {
   "cell_type": "code",
   "execution_count": null,
   "metadata": {},
   "outputs": [],
   "source": []
  },
  {
   "cell_type": "code",
   "execution_count": null,
   "metadata": {},
   "outputs": [],
   "source": []
  }
 ],
 "metadata": {
  "kernelspec": {
   "display_name": "Python 3",
   "language": "python",
   "name": "python3"
  },
  "language_info": {
   "codemirror_mode": {
    "name": "ipython",
    "version": 3
   },
   "file_extension": ".py",
   "mimetype": "text/x-python",
   "name": "python",
   "nbconvert_exporter": "python",
   "pygments_lexer": "ipython3",
   "version": "3.6.5"
  }
 },
 "nbformat": 4,
 "nbformat_minor": 2
}
